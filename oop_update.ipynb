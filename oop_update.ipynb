{
 "cells": [
  {
   "cell_type": "code",
   "execution_count": null,
   "id": "29553a9f",
   "metadata": {},
   "outputs": [
    {
     "name": "stdout",
     "output_type": "stream",
     "text": [
      "The car sounds like pip pip!...\n",
      "The cows speak like humba!....\n"
     ]
    }
   ],
   "source": [
    "#inheritence single class\n",
    "class animal():\n",
    "    def speak(self):\n",
    "        print('The cows speak like humba!....')\n",
    "class car(animal):\n",
    "    def sound(self):\n",
    "        print('The car sounds like pip pip!...')\n",
    "h1=car()\n",
    "h1.sound()  \n",
    "h1.speak()              "
   ]
  },
  {
   "cell_type": "code",
   "execution_count": 8,
   "id": "47ad1284",
   "metadata": {},
   "outputs": [
    {
     "name": "stdout",
     "output_type": "stream",
     "text": [
      "Omi is very mush struggle in her life\n",
      "sa** is very bed character girl\n",
      "Tanvir always said i dont work\n"
     ]
    }
   ],
   "source": [
    "#inheritance doble class:\n",
    "class men:\n",
    "    def said(self):\n",
    "        print(\"Tanvir always said i dont work\")\n",
    "class women(men):\n",
    "    def character(self):\n",
    "        print(\"sa** is very bed character girl\")\n",
    "class omi(women):\n",
    "    def struggle(self):\n",
    "        print('Omi is very mush struggle in her life')\n",
    "\n",
    "h1=omi()\n",
    "h1.struggle()\n",
    "h1.character()\n",
    "h1.said()"
   ]
  },
  {
   "cell_type": "code",
   "execution_count": 9,
   "id": "4d0a27dc",
   "metadata": {},
   "outputs": [
    {
     "name": "stdout",
     "output_type": "stream",
     "text": [
      "my mother call me!...\n",
      "abbo calling me !....\n"
     ]
    }
   ],
   "source": [
    "#metthod overriding\n",
    "class main():\n",
    "    def call(self):\n",
    "        print('abbo calling me !....')\n",
    "class obj(main):\n",
    "    def call(self):\n",
    "        print(\"my mother call me!...\")\n",
    "        return super().call()\n",
    "h1=obj()\n",
    "h1.call()                "
   ]
  },
  {
   "cell_type": "code",
   "execution_count": 13,
   "id": "f435652d",
   "metadata": {},
   "outputs": [
    {
     "name": "stdout",
     "output_type": "stream",
     "text": [
      "Dog gaw gaw!...\n",
      "The animal make sounnd hush hush!...\n"
     ]
    }
   ],
   "source": [
    "class animal():\n",
    "    def make_sound(self):\n",
    "        print('The animal make sounnd hush hush!...')\n",
    "class dog(animal):        \n",
    "    def make_sound(self):\n",
    "        print('Dog gaw gaw!...')\n",
    "        return super().make_sound()\n",
    "k=dog()\n",
    "k.make_sound()    "
   ]
  },
  {
   "cell_type": "code",
   "execution_count": 16,
   "id": "3a56c77c",
   "metadata": {},
   "outputs": [
    {
     "name": "stdout",
     "output_type": "stream",
     "text": [
      "omi\n",
      "Tanvir\n",
      "Nyone\n"
     ]
    }
   ],
   "source": [
    "#itter short solve\n",
    "a=['omi','Tanvir','Nyone']\n",
    "b=iter(a)\n",
    "print(next(b))\n",
    "print(next(b))\n",
    "print(next(b))"
   ]
  },
  {
   "cell_type": "code",
   "execution_count": 19,
   "id": "60441c35",
   "metadata": {},
   "outputs": [
    {
     "name": "stdout",
     "output_type": "stream",
     "text": [
      "always chill\n",
      "always angry\n"
     ]
    }
   ],
   "source": [
    "#polymorphism\n",
    "class one():\n",
    "    def __init__(self,name,home):\n",
    "        self.name=name\n",
    "        self.home=home\n",
    "    def omi(self):\n",
    "        print('always chill') \n",
    "class two():\n",
    "    def __init__(self,name,home):\n",
    "        self.name=name\n",
    "        self.home=home\n",
    "    def omi(self):\n",
    "        print('always angry')\n",
    "k=one('omi','Feni')\n",
    "j=two('Khaled','Dhaka') \n",
    "k.omi()        \n",
    "j.omi()             "
   ]
  },
  {
   "cell_type": "code",
   "execution_count": null,
   "id": "015b0f6a",
   "metadata": {},
   "outputs": [],
   "source": []
  },
  {
   "cell_type": "markdown",
   "id": "8bfd16e9",
   "metadata": {},
   "source": []
  }
 ],
 "metadata": {
  "kernelspec": {
   "display_name": "Python 3",
   "language": "python",
   "name": "python3"
  },
  "language_info": {
   "codemirror_mode": {
    "name": "ipython",
    "version": 3
   },
   "file_extension": ".py",
   "mimetype": "text/x-python",
   "name": "python",
   "nbconvert_exporter": "python",
   "pygments_lexer": "ipython3",
   "version": "3.11.4"
  }
 },
 "nbformat": 4,
 "nbformat_minor": 5
}
